{
 "cells": [
  {
   "cell_type": "code",
   "execution_count": 1,
   "metadata": {},
   "outputs": [],
   "source": [
    "import pandas as pd\n",
    "import os\n",
    "\n",
    "file2019 = \"2019.csv\"\n",
    "file2020 = \"2020.csv\"\n",
    "\n",
    "crime_data2019 = pd.read_csv(file2019,low_memory=False)\n",
    "crime_data2020 = pd.read_csv(file2020,low_memory=False)\n",
    "\n"
   ]
  },
  {
   "cell_type": "code",
   "execution_count": 28,
   "metadata": {},
   "outputs": [
    {
     "name": "stdout",
     "output_type": "stream",
     "text": [
      "all assaults 2019: 6705\n",
      "family related assaults 2019 2906\n",
      "all assaults 2020: 6593\n",
      "family related 2020 2904\n"
     ]
    }
   ],
   "source": [
    "assault2019 = crime_data2019[crime_data2019['Highest Offense Description'].str.contains(\"ASSAULT\")]\n",
    "# print(len(assault2019))\n",
    "aslt2019 = crime_data2019[crime_data2019['Highest Offense Description'].str.contains(\"ASLT\")]\n",
    "# print(len(aslt2019))\n",
    "allassaultstypes2019 = pd.merge(assault2019,aslt2019, how=\"outer\")\n",
    "print(f\"all assaults 2019: {len(allassaultstypes2019)}\")\n",
    "familyassaults2019 = allassaultstypes2019.loc[allassaultstypes2019[\"Family Violence\"]==\"Y\"]\n",
    "\n",
    "print(f\"family related assaults 2019 {len(familyassaults2019)}\")\n",
    "\n",
    "assault2020 = crime_data2020[crime_data2020['Highest Offense Description'].str.contains(\"ASSAULT\")]\n",
    "# print(len(assault2020))\n",
    "aslt2020 = crime_data2020[crime_data2020['Highest Offense Description'].str.contains(\"ASLT\")]\n",
    "# print(len(aslt2020))\n",
    "allassaultstypes2020 = pd.merge(assault2020,aslt2020, how=\"outer\")\n",
    "print(f\"all assaults 2020: {len(allassaultstypes2020)}\")\n",
    "\n",
    "familyassaults2020 = allassaultstypes2020.loc[allassaultstypes2020[\"Family Violence\"]==\"Y\"]\n",
    "\n",
    "print(f\"family related 2020 {len(familyassaults2020)}\")\n"
   ]
  },
  {
   "cell_type": "code",
   "execution_count": 11,
   "metadata": {},
   "outputs": [
    {
     "name": "stdout",
     "output_type": "stream",
     "text": [
      "168\n",
      "family related rape 2019: 56\n",
      "144\n",
      "family related rape 2020: 55\n"
     ]
    }
   ],
   "source": [
    "rape2019 = crime_data2019[crime_data2019['Highest Offense Description'].str.contains(\"RAPE\")]\n",
    "print(len(rape2019))\n",
    "familyrape2019 = rape2019.loc[rape2019[\"Family Violence\"]==\"Y\"]\n",
    "print(f\"family related rape 2019: {len(familyrape2019)}\")\n",
    "rape2020 = crime_data2020[crime_data2020['Highest Offense Description'].str.contains(\"RAPE\")]\n",
    "print(len(rape2020))\n",
    "familyrape2020 = rape2020.loc[rape2020[\"Family Violence\"]==\"Y\"]\n",
    "print(f\"family related rape 2020: {len(familyrape2020)}\")"
   ]
  },
  {
   "cell_type": "code",
   "execution_count": 15,
   "metadata": {},
   "outputs": [
    {
     "name": "stdout",
     "output_type": "stream",
     "text": [
      "theft 2019: 10408\n",
      "family related theft 2019: 25\n",
      "theft 2020: 9712\n",
      "family related theft 2020: 36\n"
     ]
    }
   ],
   "source": [
    "theft2019 = crime_data2019[crime_data2019['Highest Offense Description'].str.contains(\"THEFT\")]\n",
    "print(f\"theft 2019: {len(theft2019)}\")\n",
    "familytheft2019 = theft2019.loc[theft2019[\"Family Violence\"]==\"Y\"]\n",
    "print(f\"family related theft 2019: {len(familytheft2019)}\")\n",
    "\n",
    "theft2020 = crime_data2020[crime_data2020['Highest Offense Description'].str.contains(\"THEFT\")]\n",
    "print(f\"theft 2020: {len(theft2020)}\")\n",
    "familytheft2020 = theft2020.loc[theft2020[\"Family Violence\"]==\"Y\"]\n",
    "print(f\"family related theft 2020: {len(familytheft2020)}\")\n"
   ]
  },
  {
   "cell_type": "code",
   "execution_count": 16,
   "metadata": {},
   "outputs": [
    {
     "name": "stdout",
     "output_type": "stream",
     "text": [
      "dwi 2019: 1742\n",
      "dwi 2020: 1255\n"
     ]
    }
   ],
   "source": [
    "dwi2019 = crime_data2019[crime_data2019['Highest Offense Description'].str.contains(\"DWI\")]\n",
    "print(f\"dwi 2019: {len(dwi2019)}\")\n",
    "\n",
    "dwi2020 = crime_data2020[crime_data2020['Highest Offense Description'].str.contains(\"DWI\")]\n",
    "print(f\"dwi 2020: {len(dwi2020)}\")\n",
    "\n"
   ]
  },
  {
   "cell_type": "code",
   "execution_count": 17,
   "metadata": {},
   "outputs": [
    {
     "name": "stdout",
     "output_type": "stream",
     "text": [
      "murder 2019: 15\n",
      "murder 2020: 20\n"
     ]
    }
   ],
   "source": [
    "murder2019 = crime_data2019[crime_data2019['Highest Offense Description'].str.contains(\"MURDER\")]\n",
    "print(f\"murder 2019: {len(murder2019)}\")\n",
    "\n",
    "murder2020 = crime_data2020[crime_data2020['Highest Offense Description'].str.contains(\"MURDER\")]\n",
    "print(f\"murder 2020: {len(murder2020)}\")\n",
    "\n"
   ]
  },
  {
   "cell_type": "code",
   "execution_count": 18,
   "metadata": {},
   "outputs": [
    {
     "name": "stdout",
     "output_type": "stream",
     "text": [
      "manslaughter 2019: 2\n",
      "manslaughter 2020: 3\n"
     ]
    }
   ],
   "source": [
    "manslaughter2019 = crime_data2019[crime_data2019['Highest Offense Description'].str.contains(\"MANSLAUGHTER\")]\n",
    "print(f\"manslaughter 2019: {len(manslaughter2019)}\")\n",
    "\n",
    "manslaughter2020 = crime_data2020[crime_data2020['Highest Offense Description'].str.contains(\"MANSLAUGHTER\")]\n",
    "print(f\"manslaughter 2020: {len(manslaughter2020)}\")\n",
    "\n"
   ]
  },
  {
   "cell_type": "code",
   "execution_count": 21,
   "metadata": {},
   "outputs": [
    {
     "name": "stdout",
     "output_type": "stream",
     "text": [
      "childsexabuse 2019: 5\n",
      "childsexabuse 2020: 2\n"
     ]
    }
   ],
   "source": [
    "childsexabuse2019 = crime_data2019[crime_data2019['Highest Offense Description'].str.contains(\"SEX ABUSE\")]\n",
    "print(f\"childsexabuse 2019: {len(childsexabuse2019)}\")\n",
    "\n",
    "childsexabuse2020 = crime_data2020[crime_data2020['Highest Offense Description'].str.contains(\"SEX ABUSE\")]\n",
    "print(f\"childsexabuse 2020: {len(childsexabuse2020)}\")\n",
    "\n"
   ]
  },
  {
   "cell_type": "code",
   "execution_count": 23,
   "metadata": {},
   "outputs": [
    {
     "name": "stdout",
     "output_type": "stream",
     "text": [
      "prostitution 2019: 35\n",
      "prostitution 2020: 45\n"
     ]
    }
   ],
   "source": [
    "prostitution2019 = crime_data2019[crime_data2019['Highest Offense Description'].str.contains(\"PROSTITUTION\")]\n",
    "print(f\"prostitution 2019: {len(prostitution2019)}\")\n",
    "\n",
    "prostitution2020 = crime_data2020[crime_data2020['Highest Offense Description'].str.contains(\"PROSTITUTION\")]\n",
    "print(f\"prostitution 2020: {len(prostitution2020)}\")\n",
    "\n"
   ]
  },
  {
   "cell_type": "code",
   "execution_count": 24,
   "metadata": {},
   "outputs": [
    {
     "name": "stdout",
     "output_type": "stream",
     "text": [
      "drugrelated 2019: 552\n",
      "drugrelated 2020: 599\n"
     ]
    }
   ],
   "source": [
    "drugrelated2019 = crime_data2019[crime_data2019['Highest Offense Description'].str.contains(\"DRUG\")]\n",
    "print(f\"drugrelated 2019: {len(drugrelated2019)}\")\n",
    "\n",
    "drugrelated2020 = crime_data2020[crime_data2020['Highest Offense Description'].str.contains(\"DRUG\")]\n",
    "print(f\"drugrelated 2020: {len(drugrelated2020)}\")\n",
    "\n"
   ]
  },
  {
   "cell_type": "code",
   "execution_count": 25,
   "metadata": {},
   "outputs": [
    {
     "name": "stdout",
     "output_type": "stream",
     "text": [
      "graffiti 2019: 136\n",
      "graffiti 2020: 140\n"
     ]
    }
   ],
   "source": [
    "graffiti2019 = crime_data2019[crime_data2019['Highest Offense Description'].str.contains(\"GRAFFITI\")]\n",
    "print(f\"graffiti 2019: {len(graffiti2019)}\")\n",
    "\n",
    "graffiti2020 = crime_data2020[crime_data2020['Highest Offense Description'].str.contains(\"GRAFFITI\")]\n",
    "print(f\"graffiti 2020: {len(graffiti2020)}\")\n",
    "\n"
   ]
  },
  {
   "cell_type": "code",
   "execution_count": null,
   "metadata": {},
   "outputs": [],
   "source": []
  }
 ],
 "metadata": {
  "kernelspec": {
   "display_name": "Python 3",
   "language": "python",
   "name": "python3"
  },
  "language_info": {
   "codemirror_mode": {
    "name": "ipython",
    "version": 3
   },
   "file_extension": ".py",
   "mimetype": "text/x-python",
   "name": "python",
   "nbconvert_exporter": "python",
   "pygments_lexer": "ipython3",
   "version": "3.7.6"
  }
 },
 "nbformat": 4,
 "nbformat_minor": 4
}
