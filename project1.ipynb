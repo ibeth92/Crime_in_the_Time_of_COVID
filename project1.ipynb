{
 "cells": [
  {
   "cell_type": "code",
   "execution_count": 1,
   "metadata": {},
   "outputs": [],
   "source": [
    "import pandas as pd\n",
    "import os\n",
    "\n",
    "file_to_load = \"Crime_Reports.csv\"\n",
    "\n",
    "# Read Purchasing File and store into Pandas data frame\n",
    "crime_data = pd.read_csv(file_to_load,low_memory=False)\n",
    "\n",
    "# crime_data.head()\n",
    "# pd.to_datetime(df['I_DATE'])\n",
    "\n",
    "\n",
    "\n",
    "# crime_data = crime_data.loc[crime_data[\"Occurred Date Time\"].to_datetime() >= pd.Timestamp(2020,1,1)]\n",
    "# crime_data\n"
   ]
  },
  {
   "cell_type": "code",
   "execution_count": 2,
   "metadata": {},
   "outputs": [],
   "source": [
    "# t = pd.to_datetime(crime_data[\"Occurred Date Time\"])\n",
    "# t"
   ]
  },
  {
   "cell_type": "code",
   "execution_count": 29,
   "metadata": {
    "scrolled": true
   },
   "outputs": [],
   "source": [
    "# test2 = crime_data.head(100000).copy()\n",
    "\n",
    "crime_data_df = crime_data.copy()\n",
    "\n",
    "# print(crime_data.head())\n",
    "# print(test2.columns())\n",
    "crime_data_df[\"Occurred Date\"] = pd.to_datetime(crime_data_df[\"Occurred Date\"])\n",
    "\n",
    "# test2[\"Occurred Date\"] = test2[\"Occurred Date\"].apply(lambda x: pd.arrays.DatetimeArray(x))\n",
    "\n",
    "crime_data_df[\"Occurred Date\"] = pd.arrays.DatetimeArray(crime_data_df[\"Occurred Date\"])\n",
    "# test2[\"Occurred Date\"].type()\n",
    "# print(test2.dtypes)\n",
    "# pd.DatetimeArray\n",
    "# pd.date_range(start='1/1/2018', end='1/08/2018')\n",
    "# crime_2019_df =test2.loc[test2[\"Occurred Date\"].date_range(start='2/1/2019', end='7/31/2019')]\n",
    "# crime_2019_df =test2.loc[test2[\"Occurred Date\"] >= pd.to_datetime(\"02/01/2019\") & test2[\"Occurred Date\"] <= pd.to_datetime(\"02/01/2020\")]\n",
    "\n",
    "# crime_2019_df =test2.loc[test2[\"Occurred Date\"] >= \"02/01/2019\" & test2[\"Occurred Date\"] <= \"02/01/2020\"]\n",
    "\n",
    "# crime_2019_df =test2.loc[test2[\"Occurred Date\"] >= pd.arrays.DatetimeArray(\"02/01/2019\") & test2[\"Occurred Date\"] <= pd.arrays.DatetimeArray(\"02/01/2020\")]\n",
    "\n",
    "crime_2019_df =crime_data_df.loc[crime_data_df[\"Occurred Date\"] >= pd.Timestamp(2019,2,1,12) ]\n",
    "crime_2019_df =crime_2019_df.loc[crime_data_df[\"Occurred Date\"] <= pd.Timestamp(2019,7,31,12) ]\n",
    "\n",
    "crime_2020_df =crime_data_df.loc[crime_data_df[\"Occurred Date\"] >= pd.Timestamp(2020,2,1,12) ]\n",
    "crime_2020_df =crime_2020_df.loc[crime_data_df[\"Occurred Date\"] <= pd.Timestamp(2020,7,31,12) ]\n",
    "# print(test2[\"Occurred Date\"])\n"
   ]
  },
  {
   "cell_type": "code",
   "execution_count": 35,
   "metadata": {},
   "outputs": [
    {
     "data": {
      "text/plain": [
       "<bound method Series.unique of 287                     SUSPICIOUS PERSON\n",
       "308                   BURGLARY OF VEHICLE\n",
       "967              UNLAWFUL CARRYING WEAPON\n",
       "998        SEXUAL ASSAULT OF CHILD/OBJECT\n",
       "1119                    CRIMINAL TRESPASS\n",
       "                        ...              \n",
       "2257585                        AUTO THEFT\n",
       "2257594                               DWI\n",
       "2257600               DISTURBANCE - OTHER\n",
       "2257613                FAMILY DISTURBANCE\n",
       "2257617              THEFT BY SHOPLIFTING\n",
       "Name: Highest Offense Description, Length: 49071, dtype: object>"
      ]
     },
     "execution_count": 35,
     "metadata": {},
     "output_type": "execute_result"
    }
   ],
   "source": [
    "(crime_2019_df[\"Highest Offense Description\"].unique)\n",
    "\n",
    "crime_2019_df.to_csv(\"2019.csv\")\n",
    "crime_2020_df.to_csv(\"2020.csv\")\n",
    "\n",
    "(crime_2020_df[\"Highest Offense Description\"].unique)"
   ]
  },
  {
   "cell_type": "code",
   "execution_count": null,
   "metadata": {},
   "outputs": [],
   "source": []
  }
 ],
 "metadata": {
  "kernelspec": {
   "display_name": "Python 3",
   "language": "python",
   "name": "python3"
  },
  "language_info": {
   "codemirror_mode": {
    "name": "ipython",
    "version": 3
   },
   "file_extension": ".py",
   "mimetype": "text/x-python",
   "name": "python",
   "nbconvert_exporter": "python",
   "pygments_lexer": "ipython3",
   "version": "3.7.6"
  }
 },
 "nbformat": 4,
 "nbformat_minor": 4
}
