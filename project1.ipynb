{
 "cells": [
  {
   "cell_type": "code",
   "execution_count": 1,
   "metadata": {},
   "outputs": [],
   "source": [
    "import pandas as pd\n",
    "import os\n",
    "\n",
    "file_to_load = \"Crime_Reports.csv\"\n",
    "\n",
    "# Read crimedata 500mb file and store into Pandas data frame\n",
    "#https://data.austintexas.gov/Public-Safety/Crime-Reports/fdj4-gpfu\n",
    "crime_data = pd.read_csv(file_to_load,low_memory=False)\n",
    "\n"
   ]
  },
  {
   "cell_type": "code",
   "execution_count": 2,
   "metadata": {},
   "outputs": [],
   "source": []
  },
  {
   "cell_type": "code",
   "execution_count": 29,
   "metadata": {
    "scrolled": true
   },
   "outputs": [],
   "source": [
    "crime_data_df = crime_data.copy()\n",
    "\n",
    "#Convert object occurred date to timestamp\n",
    "crime_data_df[\"Occurred Date\"] = pd.to_datetime(crime_data_df[\"Occurred Date\"])\n",
    "crime_data_df[\"Occurred Date\"] = pd.arrays.DatetimeArray(crime_data_df[\"Occurred Date\"])\n",
    "\n",
    "#Remove data not being used.  Only wanting 2/2019 - 7/2019 and 2/2020 - 7/2020\n",
    "crime_2019_df =crime_data_df.loc[crime_data_df[\"Occurred Date\"] >= pd.Timestamp(2019,2,1,12) ]\n",
    "crime_2019_df =crime_2019_df.loc[crime_data_df[\"Occurred Date\"] <= pd.Timestamp(2019,7,31,12) ]\n",
    "\n",
    "crime_2020_df =crime_data_df.loc[crime_data_df[\"Occurred Date\"] >= pd.Timestamp(2020,2,1,12) ]\n",
    "crime_2020_df =crime_2020_df.loc[crime_data_df[\"Occurred Date\"] <= pd.Timestamp(2020,7,31,12) ]\n",
    "\n"
   ]
  },
  {
   "cell_type": "code",
   "execution_count": 35,
   "metadata": {},
   "outputs": [
    {
     "data": {
      "text/plain": [
       "<bound method Series.unique of 287                     SUSPICIOUS PERSON\n",
       "308                   BURGLARY OF VEHICLE\n",
       "967              UNLAWFUL CARRYING WEAPON\n",
       "998        SEXUAL ASSAULT OF CHILD/OBJECT\n",
       "1119                    CRIMINAL TRESPASS\n",
       "                        ...              \n",
       "2257585                        AUTO THEFT\n",
       "2257594                               DWI\n",
       "2257600               DISTURBANCE - OTHER\n",
       "2257613                FAMILY DISTURBANCE\n",
       "2257617              THEFT BY SHOPLIFTING\n",
       "Name: Highest Offense Description, Length: 49071, dtype: object>"
      ]
     },
     "execution_count": 35,
     "metadata": {},
     "output_type": "execute_result"
    }
   ],
   "source": [
    "#create files to work with\n",
    "crime_2019_df.to_csv(\"2019.csv\")\n",
    "crime_2020_df.to_csv(\"2020.csv\")\n"
   ]
  },
  {
   "cell_type": "code",
   "execution_count": null,
   "metadata": {},
   "outputs": [],
   "source": []
  }
 ],
 "metadata": {
  "kernelspec": {
   "display_name": "Python 3",
   "language": "python",
   "name": "python3"
  },
  "language_info": {
   "codemirror_mode": {
    "name": "ipython",
    "version": 3
   },
   "file_extension": ".py",
   "mimetype": "text/x-python",
   "name": "python",
   "nbconvert_exporter": "python",
   "pygments_lexer": "ipython3",
   "version": "3.7.6"
  }
 },
 "nbformat": 4,
 "nbformat_minor": 4
}
