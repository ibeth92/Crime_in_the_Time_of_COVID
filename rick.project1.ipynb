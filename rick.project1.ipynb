{
 "cells": [
  {
   "cell_type": "code",
   "execution_count": 11,
   "metadata": {},
   "outputs": [],
   "source": [
    "import pandas as pd\n",
    "import os\n",
    "\n",
    "file2019 = \"2019.csv\"\n",
    "file2020 = \"2020.csv\"\n",
    "\n",
    "crime_data2019 = pd.read_csv(file2019,low_memory=False)\n",
    "crime_data2020 = pd.read_csv(file2020,low_memory=False)\n",
    "\n"
   ]
  },
  {
   "cell_type": "code",
   "execution_count": 13,
   "metadata": {},
   "outputs": [
    {
     "name": "stdout",
     "output_type": "stream",
     "text": [
      "6339\n",
      "366\n",
      "6705\n",
      "6229\n",
      "364\n",
      "6593\n"
     ]
    }
   ],
   "source": [
    "assault2019 = crime_data2019[crime_data2019['Highest Offense Description'].str.contains(\"ASSAULT\")]\n",
    "print(len(assault2019))\n",
    "aslt2019 = crime_data2019[crime_data2019['Highest Offense Description'].str.contains(\"ASLT\")]\n",
    "print(len(aslt2019))\n",
    "allassaultstypes2019 = pd.merge(assault2019,aslt2019, how=\"outer\")\n",
    "print(len(allassaultstypes2019))\n",
    "\n",
    "\n",
    "assault2020 = crime_data2020[crime_data2020['Highest Offense Description'].str.contains(\"ASSAULT\")]\n",
    "print(len(assault2020))\n",
    "aslt2020 = crime_data2020[crime_data2020['Highest Offense Description'].str.contains(\"ASLT\")]\n",
    "print(len(aslt2020))\n",
    "allassaultstypes2020 = pd.merge(assault2020,aslt2020, how=\"outer\")\n",
    "print(len(allassaultstypes2020))\n",
    "\n"
   ]
  },
  {
   "cell_type": "code",
   "execution_count": null,
   "metadata": {},
   "outputs": [],
   "source": []
  }
 ],
 "metadata": {
  "kernelspec": {
   "display_name": "Python 3",
   "language": "python",
   "name": "python3"
  },
  "language_info": {
   "codemirror_mode": {
    "name": "ipython",
    "version": 3
   },
   "file_extension": ".py",
   "mimetype": "text/x-python",
   "name": "python",
   "nbconvert_exporter": "python",
   "pygments_lexer": "ipython3",
   "version": "3.7.6"
  }
 },
 "nbformat": 4,
 "nbformat_minor": 4
}
