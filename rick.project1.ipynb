{
 "cells": [
  {
   "cell_type": "code",
   "execution_count": 1,
   "metadata": {},
   "outputs": [],
   "source": [
    "import matplotlib.pyplot as plt\n",
    "import pandas as pd\n",
    "import numpy as np\n",
    "import requests\n",
    "import gmaps\n",
    "import os\n",
    "import json\n",
    "from pprint import pprint\n",
    "from api_keys import g_key\n",
    "file2019 = \"2019.csv\"\n",
    "file2020 = \"2020.csv\"\n",
    "\n",
    "crime_data2019 = pd.read_csv(file2019,low_memory=False)\n",
    "crime_data2020 = pd.read_csv(file2020,low_memory=False)\n",
    "\n"
   ]
  },
  {
   "cell_type": "code",
   "execution_count": 2,
   "metadata": {},
   "outputs": [
    {
     "name": "stdout",
     "output_type": "stream",
     "text": [
      "all assaults 2019: 6705\n",
      "family related assaults 2019: 2906\n",
      "all assaults 2020: 6593\n",
      "family related 2020: 2904\n"
     ]
    }
   ],
   "source": [
    "assault2019 = crime_data2019[crime_data2019['Highest Offense Description'].str.contains(\"ASSAULT\")]\n",
    "# print(len(assault2019))\n",
    "aslt2019 = crime_data2019[crime_data2019['Highest Offense Description'].str.contains(\"ASLT\")]\n",
    "# print(len(aslt2019))\n",
    "allassaultstypes2019 = pd.merge(assault2019,aslt2019, how=\"outer\")\n",
    "print(f\"all assaults 2019: {len(allassaultstypes2019)}\")\n",
    "familyassaults2019 = allassaultstypes2019.loc[allassaultstypes2019[\"Family Violence\"]==\"Y\"]\n",
    "\n",
    "print(f\"family related assaults 2019: {len(familyassaults2019)}\")\n",
    "\n",
    "assault2020 = crime_data2020[crime_data2020['Highest Offense Description'].str.contains(\"ASSAULT\")]\n",
    "# print(len(assault2020))\n",
    "aslt2020 = crime_data2020[crime_data2020['Highest Offense Description'].str.contains(\"ASLT\")]\n",
    "# print(len(aslt2020))\n",
    "allassaultstypes2020 = pd.merge(assault2020,aslt2020, how=\"outer\")\n",
    "print(f\"all assaults 2020: {len(allassaultstypes2020)}\")\n",
    "\n",
    "familyassaults2020 = allassaultstypes2020.loc[allassaultstypes2020[\"Family Violence\"]==\"Y\"]\n",
    "\n",
    "print(f\"family related 2020: {len(familyassaults2020)}\")\n",
    "# print(crime_data2019[\"Zip Code\"].astype(\"int64\"))"
   ]
  },
  {
   "cell_type": "code",
   "execution_count": 3,
   "metadata": {},
   "outputs": [
    {
     "name": "stdout",
     "output_type": "stream",
     "text": [
      "168\n",
      "family related rape 2019: 56\n",
      "144\n",
      "family related rape 2020: 55\n"
     ]
    }
   ],
   "source": [
    "rape2019 = crime_data2019[crime_data2019['Highest Offense Description'].str.contains(\"RAPE\")]\n",
    "print(len(rape2019))\n",
    "familyrape2019 = rape2019.loc[rape2019[\"Family Violence\"]==\"Y\"]\n",
    "print(f\"family related rape 2019: {len(familyrape2019)}\")\n",
    "rape2020 = crime_data2020[crime_data2020['Highest Offense Description'].str.contains(\"RAPE\")]\n",
    "print(len(rape2020))\n",
    "familyrape2020 = rape2020.loc[rape2020[\"Family Violence\"]==\"Y\"]\n",
    "print(f\"family related rape 2020: {len(familyrape2020)}\")"
   ]
  },
  {
   "cell_type": "code",
   "execution_count": 4,
   "metadata": {},
   "outputs": [
    {
     "name": "stdout",
     "output_type": "stream",
     "text": [
      "theft 2019: 10408\n",
      "family related theft 2019: 25\n",
      "theft 2020: 9712\n",
      "family related theft 2020: 36\n"
     ]
    }
   ],
   "source": [
    "theft2019 = crime_data2019[crime_data2019['Highest Offense Description'].str.contains(\"THEFT\")]\n",
    "print(f\"theft 2019: {len(theft2019)}\")\n",
    "familytheft2019 = theft2019.loc[theft2019[\"Family Violence\"]==\"Y\"]\n",
    "print(f\"family related theft 2019: {len(familytheft2019)}\")\n",
    "\n",
    "theft2020 = crime_data2020[crime_data2020['Highest Offense Description'].str.contains(\"THEFT\")]\n",
    "print(f\"theft 2020: {len(theft2020)}\")\n",
    "familytheft2020 = theft2020.loc[theft2020[\"Family Violence\"]==\"Y\"]\n",
    "print(f\"family related theft 2020: {len(familytheft2020)}\")\n"
   ]
  },
  {
   "cell_type": "code",
   "execution_count": 5,
   "metadata": {},
   "outputs": [
    {
     "name": "stdout",
     "output_type": "stream",
     "text": [
      "dwi 2019: 1742\n",
      "dwi 2020: 1255\n"
     ]
    }
   ],
   "source": [
    "dwi2019 = crime_data2019[crime_data2019['Highest Offense Description'].str.contains(\"DWI\")]\n",
    "print(f\"dwi 2019: {len(dwi2019)}\")\n",
    "\n",
    "dwi2020 = crime_data2020[crime_data2020['Highest Offense Description'].str.contains(\"DWI\")]\n",
    "print(f\"dwi 2020: {len(dwi2020)}\")\n",
    "\n"
   ]
  },
  {
   "cell_type": "code",
   "execution_count": 6,
   "metadata": {},
   "outputs": [
    {
     "name": "stdout",
     "output_type": "stream",
     "text": [
      "murder 2019: 15\n",
      "murder 2020: 20\n"
     ]
    }
   ],
   "source": [
    "murder2019 = crime_data2019[crime_data2019['Highest Offense Description'].str.contains(\"MURDER\")]\n",
    "print(f\"murder 2019: {len(murder2019)}\")\n",
    "\n",
    "murder2020 = crime_data2020[crime_data2020['Highest Offense Description'].str.contains(\"MURDER\")]\n",
    "print(f\"murder 2020: {len(murder2020)}\")\n",
    "\n"
   ]
  },
  {
   "cell_type": "code",
   "execution_count": 7,
   "metadata": {},
   "outputs": [
    {
     "name": "stdout",
     "output_type": "stream",
     "text": [
      "manslaughter 2019: 2\n",
      "manslaughter 2020: 3\n"
     ]
    }
   ],
   "source": [
    "manslaughter2019 = crime_data2019[crime_data2019['Highest Offense Description'].str.contains(\"MANSLAUGHTER\")]\n",
    "print(f\"manslaughter 2019: {len(manslaughter2019)}\")\n",
    "\n",
    "manslaughter2020 = crime_data2020[crime_data2020['Highest Offense Description'].str.contains(\"MANSLAUGHTER\")]\n",
    "print(f\"manslaughter 2020: {len(manslaughter2020)}\")\n",
    "\n"
   ]
  },
  {
   "cell_type": "code",
   "execution_count": 8,
   "metadata": {},
   "outputs": [
    {
     "name": "stdout",
     "output_type": "stream",
     "text": [
      "childsexabuse 2019: 5\n",
      "childsexabuse 2020: 2\n"
     ]
    }
   ],
   "source": [
    "childsexabuse2019 = crime_data2019[crime_data2019['Highest Offense Description'].str.contains(\"SEX ABUSE\")]\n",
    "print(f\"childsexabuse 2019: {len(childsexabuse2019)}\")\n",
    "\n",
    "childsexabuse2020 = crime_data2020[crime_data2020['Highest Offense Description'].str.contains(\"SEX ABUSE\")]\n",
    "print(f\"childsexabuse 2020: {len(childsexabuse2020)}\")\n",
    "\n"
   ]
  },
  {
   "cell_type": "code",
   "execution_count": 9,
   "metadata": {},
   "outputs": [
    {
     "name": "stdout",
     "output_type": "stream",
     "text": [
      "prostitution 2019: 35\n",
      "prostitution 2020: 45\n"
     ]
    }
   ],
   "source": [
    "prostitution2019 = crime_data2019[crime_data2019['Highest Offense Description'].str.contains(\"PROSTITUTION\")]\n",
    "print(f\"prostitution 2019: {len(prostitution2019)}\")\n",
    "\n",
    "prostitution2020 = crime_data2020[crime_data2020['Highest Offense Description'].str.contains(\"PROSTITUTION\")]\n",
    "print(f\"prostitution 2020: {len(prostitution2020)}\")\n",
    "\n"
   ]
  },
  {
   "cell_type": "code",
   "execution_count": 46,
   "metadata": {},
   "outputs": [
    {
     "name": "stdout",
     "output_type": "stream",
     "text": [
      "35\n",
      "45\n"
     ]
    },
    {
     "data": {
      "image/png": "[encoded data removed]",
      "text/plain": [
       "<Figure size 432x288 with 1 Axes>"
      ]
     },
     "metadata": {
      "needs_background": "light"
     },
     "output_type": "display_data"
    }
   ],
   "source": [
    "prostitution_count2019 = prostitution2019[\"Address\"].count()\n",
    "print(prostitution_count2019)\n",
    "prostitution_count2020 = prostitution2020[\"Address\"].count()\n",
    "print(prostitution_count2020)\n",
    "counts =[prostitution_count2019,prostitution_count2020]\n",
    "x_axis = np.arange(len(counts))\n",
    "\n",
    "plt.bar(x_axis, counts, color='r', alpha=0.9, align=\"center\")\n",
    "tick_locations = [value for value in x_axis]\n",
    "plt.xticks(tick_locations, [\"2019\", \"2020\"])\n",
    "plt.ylim(0,50)\n",
    "plt.title(\"Prostitution 2019 vs 2020\")\n",
    "plt.xlabel(\"Year\")\n",
    "plt.ylabel(\"Occurrences\")\n",
    "plt.show()"
   ]
  },
  {
   "cell_type": "code",
   "execution_count": 10,
   "metadata": {},
   "outputs": [
    {
     "name": "stdout",
     "output_type": "stream",
     "text": [
      "drugrelated 2019: 552\n",
      "drugrelated 2020: 599\n"
     ]
    }
   ],
   "source": [
    "drugrelated2019 = crime_data2019[crime_data2019['Highest Offense Description'].str.contains(\"DRUG\")]\n",
    "print(f\"drugrelated 2019: {len(drugrelated2019)}\")\n",
    "\n",
    "drugrelated2020 = crime_data2020[crime_data2020['Highest Offense Description'].str.contains(\"DRUG\")]\n",
    "print(f\"drugrelated 2020: {len(drugrelated2020)}\")\n",
    "\n"
   ]
  },
  {
   "cell_type": "code",
   "execution_count": 11,
   "metadata": {},
   "outputs": [
    {
     "name": "stdout",
     "output_type": "stream",
     "text": [
      "graffiti 2019: 136\n",
      "graffiti 2020: 140\n"
     ]
    }
   ],
   "source": [
    "graffiti2019 = crime_data2019[crime_data2019['Highest Offense Description'].str.contains(\"GRAFFITI\")]\n",
    "print(f\"graffiti 2019: {len(graffiti2019)}\")\n",
    "\n",
    "graffiti2020 = crime_data2020[crime_data2020['Highest Offense Description'].str.contains(\"GRAFFITI\")]\n",
    "print(f\"graffiti 2020: {len(graffiti2020)}\")\n",
    "\n"
   ]
  },
  {
   "cell_type": "code",
   "execution_count": 50,
   "metadata": {},
   "outputs": [
    {
     "name": "stdout",
     "output_type": "stream",
     "text": [
      "136\n",
      "140\n"
     ]
    },
    {
     "data": {
      "image/png": "[encoded data removed]",
      "text/plain": [
       "<Figure size 432x288 with 1 Axes>"
      ]
     },
     "metadata": {
      "needs_background": "light"
     },
     "output_type": "display_data"
    }
   ],
   "source": [
    "graffiti2019_count = graffiti2019[\"Address\"].count()\n",
    "print(graffiti2019_count)\n",
    "graffiti2020_count = graffiti2020[\"Address\"].count()\n",
    "print(graffiti2020_count)\n",
    "counts =[graffiti2019_count,graffiti2020_count]\n",
    "x_axis = np.arange(len(counts))\n",
    "\n",
    "plt.bar(x_axis, counts, color='r', alpha=0.9, align=\"center\")\n",
    "tick_locations = [value for value in x_axis]\n",
    "plt.xticks(tick_locations, [\"2019\", \"2020\"])\n",
    "plt.ylim(0,150)\n",
    "plt.title(\"Graffiti 2019 vs 2020\")\n",
    "plt.xlabel(\"Year\")\n",
    "plt.ylabel(\"Occurrences\")\n",
    "plt.show()"
   ]
  },
  {
   "cell_type": "code",
   "execution_count": 12,
   "metadata": {},
   "outputs": [
    {
     "name": "stdout",
     "output_type": "stream",
     "text": [
      "burglary 2019: 7807\n",
      "burglary 2020: 7176\n"
     ]
    }
   ],
   "source": [
    "burglary2019 = crime_data2019[crime_data2019['Highest Offense Description'].str.contains(\"BURGLARY\")]\n",
    "print(f\"burglary 2019: {len(burglary2019)}\")\n",
    "\n",
    "burglary2020 = crime_data2020[crime_data2020['Highest Offense Description'].str.contains(\"BURGLARY\")]\n",
    "print(f\"burglary 2020: {len(burglary2020)}\")"
   ]
  },
  {
   "cell_type": "code",
   "execution_count": 13,
   "metadata": {
    "scrolled": true
   },
   "outputs": [
    {
     "name": "stdout",
     "output_type": "stream",
     "text": [
      "136\n"
     ]
    }
   ],
   "source": [
    "#Graffiti 2019\n",
    "gmaps.configure(api_key=g_key)\n",
    "\n",
    "firstloclat2019 = []\n",
    "firstloclng2019 = []\n",
    "\n",
    "graffiti2019 = graffiti2019.copy()\n",
    "graffiti2019[\"Address\"] = graffiti2019[\"Address\"].apply(lambda row: row.replace(\" \", \"+\") + \"+AUSTIN+TX\")\n",
    "print(len(graffiti2019))\n",
    "for i,graffiti in (graffiti2019.iterrows()):\n",
    "\n",
    "    try:\n",
    "        \n",
    "        address = graffiti2019[\"Address\"][i] \n",
    "        gurl = f\"https://maps.googleapis.com/maps/api/geocode/json?address={address}&key={g_key}\"\n",
    "        response = requests.get(gurl)    \n",
    "        austin_data = response.json()\n",
    "        firstloclat2019.append(austin_data[\"results\"][0][\"geometry\"][\"location\"][\"lat\"])\n",
    "        firstloclng2019.append(austin_data[\"results\"][0][\"geometry\"][\"location\"][\"lng\"])        \n",
    "        \n",
    "        \n",
    "    except IndexError:\n",
    "        firstloclat2019.append(\"No data.\")\n",
    "        firstloclng2019.append(\"No data.\")\n",
    "\n",
    "\n"
   ]
  },
  {
   "cell_type": "code",
   "execution_count": 14,
   "metadata": {},
   "outputs": [
    {
     "name": "stdout",
     "output_type": "stream",
     "text": [
      "140\n"
     ]
    }
   ],
   "source": [
    "#Graffiti 2020\n",
    "gmaps.configure(api_key=g_key)\n",
    "\n",
    "firstloclat2020 = []\n",
    "firstloclng2020 = []\n",
    "\n",
    "graffiti2020 = graffiti2020.copy()\n",
    "graffiti2020[\"Address\"] = graffiti2020[\"Address\"].apply(lambda row: row.replace(\" \", \"+\") + \"+AUSTIN+TX\")\n",
    "print(len(graffiti2020))\n",
    "for i,graffiti in (graffiti2020.iterrows()):\n",
    "\n",
    "    try:\n",
    "        \n",
    "        address = graffiti2020[\"Address\"][i] \n",
    "        gurl = f\"https://maps.googleapis.com/maps/api/geocode/json?address={address}&key={g_key}\"\n",
    "        response = requests.get(gurl)    \n",
    "        austin_data2020 = response.json()\n",
    "        firstloclat2020.append(austin_data2020[\"results\"][0][\"geometry\"][\"location\"][\"lat\"])\n",
    "        firstloclng2020.append(austin_data2020[\"results\"][0][\"geometry\"][\"location\"][\"lng\"])        \n",
    "        \n",
    "        \n",
    "    except IndexError:\n",
    "        firstloclat2020.append(\"No data.\")\n",
    "        firstloclng2020.append(\"No data.\")\n",
    "\n",
    "\n"
   ]
  },
  {
   "cell_type": "code",
   "execution_count": 15,
   "metadata": {},
   "outputs": [],
   "source": [
    "#Graffiti 2019 + 2020 Zone Map\n",
    "\n",
    "austinlatlong = ()\n",
    "austinlatlong = (30.2672, -97.7431)\n",
    "latlong_df2019 = pd.DataFrame({\"Lat\": firstloclat2019\n",
    "                              ,\"Lng\": firstloclng2019})        \n",
    "latlong_df2020 = pd.DataFrame({\"Lat\": firstloclat2020\n",
    "                              ,\"Lng\": firstloclng2020})\n",
    "\n",
    "info_box_content2019 = \"\"\"\n",
    "<dl>\n",
    "<dt>Graffiti Zone 2019</dt>\n",
    "<dt>Latitude</dt><dd>{Lat}</dd>\n",
    "<dt>Longitude</dt><dd>{Lng}</dd>\n",
    "</dl>\n",
    "\"\"\"\n",
    "info_box_content2020 = \"\"\"\n",
    "<dl>\n",
    "<dt>Graffiti Zone 2020</dt>\n",
    "<dt>Latitude</dt><dd>{Lat}</dd>\n",
    "<dt>Longitude</dt><dd>{Lng}</dd>\n",
    "</dl>\n",
    "\"\"\"\n",
    "\n",
    "\n",
    "# print(latlong_df)\n",
    "latlong_df2019 = latlong_df2019.round(2)\n",
    "latlong_df2019 = latlong_df2019.drop_duplicates()\n",
    "\n",
    "latlong_df2020 = latlong_df2020.round(2)\n",
    "latlong_df2020 = latlong_df2020.drop_duplicates()\n",
    "# print(len(latlong_df2019))\n",
    "\n",
    "graffiti_info2019 = [info_box_content2019.format(**row) for index, row in latlong_df2019.iterrows()]\n",
    "graffiti_info2020 = [info_box_content2020.format(**row) for index, row in latlong_df2020.iterrows()]\n",
    "\n",
    "\n",
    "\n",
    "\n"
   ]
  },
  {
   "cell_type": "code",
   "execution_count": 16,
   "metadata": {
    "scrolled": false
   },
   "outputs": [
    {
     "name": "stdout",
     "output_type": "stream",
     "text": [
      "79\n"
     ]
    },
    {
     "data": {
      "application/vnd.jupyter.widget-view+json": {
       "model_id": "e00b20fd45124f4d8930fd9f3f299721",
       "version_major": 2,
       "version_minor": 0
      },
      "text/plain": [
       "Figure(layout=FigureLayout(height='420px'))"
      ]
     },
     "metadata": {},
     "output_type": "display_data"
    }
   ],
   "source": [
    "print(len(latlong_df2019))\n",
    "fig2019 = gmaps.figure(center=austinlatlong,zoom_level = 11 ,map_type=\"ROADMAP\")\n",
    "marker_layer = gmaps.marker_layer(latlong_df2019,info_box_content=graffiti_info2019)\n",
    "fig2019.add_layer(marker_layer)\n",
    "fig2019\n"
   ]
  },
  {
   "cell_type": "code",
   "execution_count": 17,
   "metadata": {
    "scrolled": false
   },
   "outputs": [
    {
     "name": "stdout",
     "output_type": "stream",
     "text": [
      "88\n"
     ]
    },
    {
     "data": {
      "application/vnd.jupyter.widget-view+json": {
       "model_id": "f0342feec4c741498a20a24f1620983f",
       "version_major": 2,
       "version_minor": 0
      },
      "text/plain": [
       "Figure(layout=FigureLayout(height='420px'))"
      ]
     },
     "metadata": {},
     "output_type": "display_data"
    }
   ],
   "source": [
    "print(len(latlong_df2020))\n",
    "fig2020 = gmaps.figure(center=austinlatlong,zoom_level = 11 ,map_type=\"ROADMAP\")\n",
    "marker_layer2020 = gmaps.marker_layer(latlong_df2020,info_box_content=graffiti_info2020)\n",
    "fig2020.add_layer(marker_layer)\n",
    "fig2020"
   ]
  },
  {
   "cell_type": "code",
   "execution_count": 18,
   "metadata": {},
   "outputs": [
    {
     "name": "stdout",
     "output_type": "stream",
     "text": [
      "35\n"
     ]
    }
   ],
   "source": [
    "#Prostitution 2019\n",
    "gmaps.configure(api_key=g_key)\n",
    "\n",
    "firstloclat2019_prostitution = []\n",
    "firstloclng2019_prostitution = []\n",
    "\n",
    "prostitution2019 = prostitution2019.copy()\n",
    "prostitution2019[\"Address\"] = prostitution2019[\"Address\"].apply(lambda row: row.replace(\" \", \"+\") + \"+AUSTIN+TX\")\n",
    "print(len(prostitution2019))\n",
    "for i,graffiti in (prostitution2019.iterrows()):\n",
    "\n",
    "    try:\n",
    "        \n",
    "        address = prostitution2019[\"Address\"][i] \n",
    "        gurl = f\"https://maps.googleapis.com/maps/api/geocode/json?address={address}&key={g_key}\"\n",
    "        response = requests.get(gurl)    \n",
    "        austin_data_prostitution_2019 = response.json()\n",
    "        firstloclat2019_prostitution.append(austin_data_prostitution_2019[\"results\"][0][\"geometry\"][\"location\"][\"lat\"])\n",
    "        firstloclng2019_prostitution.append(austin_data_prostitution_2019[\"results\"][0][\"geometry\"][\"location\"][\"lng\"])        \n",
    "        \n",
    "        \n",
    "    except IndexError:\n",
    "        firstloclat2019_prostitution.append(\"No data.\")\n",
    "        firstloclng2019_prostitution.append(\"No data.\")\n",
    "\n",
    "\n"
   ]
  },
  {
   "cell_type": "code",
   "execution_count": 19,
   "metadata": {},
   "outputs": [
    {
     "name": "stdout",
     "output_type": "stream",
     "text": [
      "45\n"
     ]
    }
   ],
   "source": [
    "#Prostitution 2020\n",
    "gmaps.configure(api_key=g_key)\n",
    "\n",
    "firstloclat2020_prostitution = []\n",
    "firstloclng2020_prostitution = []\n",
    "\n",
    "prostitution2020 = prostitution2020.copy()\n",
    "prostitution2020[\"Address\"] = prostitution2020[\"Address\"].apply(lambda row: row.replace(\" \", \"+\") + \"+AUSTIN+TX\")\n",
    "print(len(prostitution2020))\n",
    "for i,graffiti in (prostitution2020.iterrows()):\n",
    "\n",
    "    try:\n",
    "        \n",
    "        address = prostitution2020[\"Address\"][i] \n",
    "        gurl = f\"https://maps.googleapis.com/maps/api/geocode/json?address={address}&key={g_key}\"\n",
    "        response = requests.get(gurl)    \n",
    "        austin_data_prostitution_2020 = response.json()\n",
    "        firstloclat2020_prostitution.append(austin_data_prostitution_2020[\"results\"][0][\"geometry\"][\"location\"][\"lat\"])\n",
    "        firstloclng2020_prostitution.append(austin_data_prostitution_2020[\"results\"][0][\"geometry\"][\"location\"][\"lng\"])        \n",
    "        \n",
    "        \n",
    "    except IndexError:\n",
    "        firstloclat2020_prostitution.append(\"No data.\")\n",
    "        firstloclng2020_prostitution.append(\"No data.\")\n",
    "\n",
    "\n"
   ]
  },
  {
   "cell_type": "code",
   "execution_count": 20,
   "metadata": {},
   "outputs": [],
   "source": [
    "#Prostitution 2019 + 2020 Zone Map\n",
    "\n",
    "austinlatlong = ()\n",
    "austinlatlong = (30.2672, -97.7431)\n",
    "latlong_df2019_prostitution = pd.DataFrame({\"Lat\": firstloclat2019_prostitution\n",
    "                                           ,\"Lng\": firstloclng2019_prostitution})        \n",
    "latlong_df2020_prostitution = pd.DataFrame({\"Lat\": firstloclat2020_prostitution\n",
    "                                           ,\"Lng\": firstloclng2020_prostitution})\n",
    "\n",
    "info_box_content2019 = \"\"\"\n",
    "<dl>\n",
    "<dt>Prostitution Zone 2019</dt>\n",
    "<dt>Latitude</dt><dd>{Lat}</dd>\n",
    "<dt>Longitude</dt><dd>{Lng}</dd>\n",
    "</dl>\n",
    "\"\"\"\n",
    "info_box_content2020 = \"\"\"\n",
    "<dl>\n",
    "<dt>Prostitution Zone 2020</dt>\n",
    "<dt>Latitude</dt><dd>{Lat}</dd>\n",
    "<dt>Longitude</dt><dd>{Lng}</dd>\n",
    "</dl>\n",
    "\"\"\"\n",
    "\n",
    "\n",
    "# print(latlong_df)\n",
    "latlong_df2019_prostitution = latlong_df2019_prostitution.round(5)\n",
    "latlong_df2019_prostitution = latlong_df2019_prostitution.drop_duplicates()\n",
    "\n",
    "latlong_df2020_prostitution = latlong_df2020_prostitution.round(5)\n",
    "latlong_df2020_prostitution = latlong_df2020_prostitution.drop_duplicates()\n",
    "# print(len(latlong_df2019))\n",
    "\n",
    "prostitution_info2019 = [info_box_content2019.format(**row) for index, row in latlong_df2019_prostitution.iterrows()]\n",
    "prostitution_info2020 = [info_box_content2020.format(**row) for index, row in latlong_df2020_prostitution.iterrows()]\n",
    "\n",
    "\n",
    "\n",
    "\n"
   ]
  },
  {
   "cell_type": "code",
   "execution_count": 21,
   "metadata": {},
   "outputs": [
    {
     "name": "stdout",
     "output_type": "stream",
     "text": [
      "31\n"
     ]
    },
    {
     "data": {
      "application/vnd.jupyter.widget-view+json": {
       "model_id": "f0c3d607e3e5474684f4887aee70d667",
       "version_major": 2,
       "version_minor": 0
      },
      "text/plain": [
       "Figure(layout=FigureLayout(height='420px'))"
      ]
     },
     "metadata": {},
     "output_type": "display_data"
    }
   ],
   "source": [
    "print(len(latlong_df2019_prostitution))\n",
    "fig2019_pro = gmaps.figure(center=austinlatlong,zoom_level = 11 ,map_type=\"ROADMAP\")\n",
    "marker_layer = gmaps.marker_layer(latlong_df2019_prostitution,info_box_content=prostitution_info2019)\n",
    "fig2019_pro.add_layer(marker_layer)\n",
    "fig2019_pro\n"
   ]
  },
  {
   "cell_type": "code",
   "execution_count": 22,
   "metadata": {},
   "outputs": [
    {
     "name": "stdout",
     "output_type": "stream",
     "text": [
      "27\n"
     ]
    },
    {
     "data": {
      "application/vnd.jupyter.widget-view+json": {
       "model_id": "aac11d057b1a403389f4eed393273dc8",
       "version_major": 2,
       "version_minor": 0
      },
      "text/plain": [
       "Figure(layout=FigureLayout(height='420px'))"
      ]
     },
     "metadata": {},
     "output_type": "display_data"
    }
   ],
   "source": [
    "print(len(latlong_df2020_prostitution))\n",
    "fig2020_pro = gmaps.figure(center=austinlatlong,zoom_level = 11 ,map_type=\"ROADMAP\")\n",
    "marker_layer = gmaps.marker_layer(latlong_df2020_prostitution,info_box_content=prostitution_info2020)\n",
    "fig2020_pro.add_layer(marker_layer)\n",
    "fig2020_pro\n"
   ]
  },
  {
   "cell_type": "code",
   "execution_count": null,
   "metadata": {},
   "outputs": [],
   "source": []
  }
 ],
 "metadata": {
  "kernelspec": {
   "display_name": "Python 3",
   "language": "python",
   "name": "python3"
  },
  "language_info": {
   "codemirror_mode": {
    "name": "ipython",
    "version": 3
   },
   "file_extension": ".py",
   "mimetype": "text/x-python",
   "name": "python",
   "nbconvert_exporter": "python",
   "pygments_lexer": "ipython3",
   "version": "3.7.6"
  }
 },
 "nbformat": 4,
 "nbformat_minor": 4
}
